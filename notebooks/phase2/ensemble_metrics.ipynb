{
 "cells": [
  {
   "cell_type": "code",
   "execution_count": null,
   "id": "f05a2dfd",
   "metadata": {},
   "outputs": [],
   "source": []
  },
  {
   "cell_type": "code",
   "execution_count": 15,
   "id": "ece062d9",
   "metadata": {},
   "outputs": [],
   "source": [
    "import pandas as pd\n",
    "\n",
    "from sklearn.metrics import (accuracy_score, classification_report,\n",
    "                             confusion_matrix, f1_score, \n",
    "                             precision_score, recall_score)"
   ]
  },
  {
   "cell_type": "code",
   "execution_count": 126,
   "id": "a60ce642",
   "metadata": {},
   "outputs": [],
   "source": [
    "en1 = '/mnt/nas2/results/Results/systematicReview/SemEval2023/predictions/participant/0/biomedroberta/ensemble1_linear_ep_4.tsv'\n",
    "en2 = '/mnt/nas2/results/Results/systematicReview/SemEval2023/predictions/participant/0/biomedroberta/ensemble1_linear_ep_4.tsv'\n",
    "en3 = '/mnt/nas2/results/Results/systematicReview/SemEval2023/predictions/participant/0/biomedroberta/ensemble1_linear_ep_4.tsv'"
   ]
  },
  {
   "cell_type": "code",
   "execution_count": 127,
   "id": "5a4af7d2",
   "metadata": {},
   "outputs": [],
   "source": [
    "en1_df = pd.read_csv(en1, header=0, sep='|')\n",
    "en2_df = pd.read_csv(en2, header=0, sep='|')\n",
    "en3_df = pd.read_csv(en3, header=0, sep='|')"
   ]
  },
  {
   "cell_type": "code",
   "execution_count": 128,
   "id": "078651e3",
   "metadata": {},
   "outputs": [],
   "source": [
    "def rename_cols(df):\n",
    "    df.rename(columns={df.columns[0]: 'tokens'},inplace=True)\n",
    "    df.rename(columns={df.columns[1]: 'labs'},inplace=True)\n",
    "    df.rename(columns={df.columns[2]: 'preds'},inplace=True)\n",
    "    return df"
   ]
  },
  {
   "cell_type": "code",
   "execution_count": 129,
   "id": "ad08bb5b",
   "metadata": {},
   "outputs": [],
   "source": [
    "en1_df = rename_cols(en1_df)\n",
    "en2_df = rename_cols(en2_df)\n",
    "en3_df = rename_cols(en3_df)"
   ]
  },
  {
   "cell_type": "code",
   "execution_count": 130,
   "id": "ca8196a8",
   "metadata": {},
   "outputs": [
    {
     "data": {
      "text/plain": [
       "(7288, 3)"
      ]
     },
     "execution_count": 130,
     "metadata": {},
     "output_type": "execute_result"
    }
   ],
   "source": [
    "en1_df.shape"
   ]
  },
  {
   "cell_type": "code",
   "execution_count": 131,
   "id": "f86cb045",
   "metadata": {},
   "outputs": [
    {
     "data": {
      "text/plain": [
       "(7288, 3)"
      ]
     },
     "execution_count": 131,
     "metadata": {},
     "output_type": "execute_result"
    }
   ],
   "source": [
    "en2_df.shape"
   ]
  },
  {
   "cell_type": "code",
   "execution_count": 132,
   "id": "303d2e9f",
   "metadata": {},
   "outputs": [
    {
     "data": {
      "text/plain": [
       "(7288, 3)"
      ]
     },
     "execution_count": 132,
     "metadata": {},
     "output_type": "execute_result"
    }
   ],
   "source": [
    "en3_df.shape"
   ]
  },
  {
   "cell_type": "code",
   "execution_count": 133,
   "id": "5a4158c7",
   "metadata": {},
   "outputs": [],
   "source": [
    "mv = []\n",
    "for i,j,k in zip( en1_df['preds'], en2_df['preds'], en3_df['preds']   ):\n",
    "    i=int(i)\n",
    "    j=int(j)\n",
    "    k=int(k)\n",
    "    if k > 1:\n",
    "        k = 0\n",
    "    if sum([i,j,k]) >=2:\n",
    "        mv.append( 1 )\n",
    "    else:\n",
    "        mv.append( 0 )"
   ]
  },
  {
   "cell_type": "code",
   "execution_count": 134,
   "id": "1b0746d7",
   "metadata": {},
   "outputs": [],
   "source": [
    "true_labs = []\n",
    "for i in en1_df['labs'].values:\n",
    "    if i > 1:\n",
    "        i = 0\n",
    "        true_labs.append( i )\n",
    "    else:\n",
    "        true_labs.append( i )"
   ]
  },
  {
   "cell_type": "code",
   "execution_count": 135,
   "id": "7bd010d2",
   "metadata": {},
   "outputs": [],
   "source": [
    "cr = classification_report(y_pred= mv, y_true=true_labs, labels=list(range(2)), output_dict=True, digits=4)"
   ]
  },
  {
   "cell_type": "code",
   "execution_count": 136,
   "id": "511a4552",
   "metadata": {},
   "outputs": [
    {
     "name": "stdout",
     "output_type": "stream",
     "text": [
      "50.3 , 51.83 , 44.22 , 96.61 , 70.19 , 81.31 , 3.9899999999999998 , 33.46 , 7.13\n"
     ]
    }
   ],
   "source": [
    "print( round(cr['macro avg']['precision'], 4)*100 , ',', round(cr['macro avg']['recall'], 4)*100, ',', round(cr['macro avg']['f1-score'], 4)*100\n",
    ", ',', round(cr['0']['precision'], 4)*100, ',', round(cr['0']['recall'], 4)*100, ',', round(cr['0']['f1-score'], 4)*100\n",
    ", ',', round(cr['1']['precision'], 4)*100, ',', round(cr['1']['recall'], 4)*100, ',', round(cr['1']['f1-score'], 4)*100\n",
    ")"
   ]
  },
  {
   "cell_type": "code",
   "execution_count": null,
   "id": "e8006419",
   "metadata": {},
   "outputs": [],
   "source": []
  }
 ],
 "metadata": {
  "kernelspec": {
   "display_name": "Python 3",
   "language": "python",
   "name": "python3"
  },
  "language_info": {
   "codemirror_mode": {
    "name": "ipython",
    "version": 3
   },
   "file_extension": ".py",
   "mimetype": "text/x-python",
   "name": "python",
   "nbconvert_exporter": "python",
   "pygments_lexer": "ipython3",
   "version": "3.8.10"
  }
 },
 "nbformat": 4,
 "nbformat_minor": 5
}
