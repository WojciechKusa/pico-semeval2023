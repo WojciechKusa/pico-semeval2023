{
 "cells": [
  {
   "cell_type": "markdown",
   "id": "1579afef",
   "metadata": {},
   "source": [
    "# Explore PICO data"
   ]
  },
  {
   "cell_type": "code",
   "execution_count": 66,
   "id": "a240b958",
   "metadata": {},
   "outputs": [],
   "source": [
    "# generic imports\n",
    "import ast\n",
    "import collections\n",
    "import re\n",
    "import spacy\n",
    "import scispacy\n",
    "import time\n",
    "import numpy as np\n",
    "from collections import Counter\n",
    "from itertools import groupby\n",
    "import itertools\n",
    "from operator import itemgetter\n",
    "import csv\n",
    "import errno\n",
    "import os\n",
    "import sqlite3\n",
    "import string\n",
    "from collections import defaultdict\n",
    "from sqlite3 import Error\n",
    "\n",
    "# DS imports\n",
    "import pandas as pd\n",
    "import numpy as np\n",
    "\n",
    "# visualiation imports \n",
    "from matplotlib_dashboard import MatplotlibDashboard\n",
    "import matplotlib.pyplot as plt\n",
    "from tqdm._tqdm_notebook import tqdm_notebook\n",
    "tqdm_notebook.pandas()\n",
    "import seaborn as sns\n",
    "\n",
    "# NLP imports\n",
    "import spacy\n",
    "from nltk.stem import PorterStemmer\n",
    "from spellchecker import SpellChecker\n",
    "import contextualSpellCheck\n",
    "\n",
    "# Sklearn imports\n",
    "from sklearn.model_selection import train_test_split"
   ]
  },
  {
   "cell_type": "code",
   "execution_count": 4,
   "id": "e440a375",
   "metadata": {},
   "outputs": [],
   "source": [
    "#loading the english language small model of spacy\n",
    "en = spacy.load('en_core_sci_scibert')\n",
    "\n",
    "random_seed = 0"
   ]
  },
  {
   "cell_type": "code",
   "execution_count": 67,
   "id": "678d364a",
   "metadata": {},
   "outputs": [
    {
     "data": {
      "text/plain": [
       "<contextualSpellCheck.contextualSpellCheck.ContextualSpellCheck at 0x7fb222c248e0>"
      ]
     },
     "execution_count": 67,
     "metadata": {},
     "output_type": "execute_result"
    }
   ],
   "source": [
    "# add spellchecker to pipeline\n",
    "\n",
    "en.add_pipe(\"contextual spellchecker\")"
   ]
  },
  {
   "cell_type": "code",
   "execution_count": 5,
   "id": "a73bc9fb",
   "metadata": {},
   "outputs": [],
   "source": [
    "load_data = '/mnt/nas2/data/systematicReview/semeval2023/data/parsed/st2_train_parsed.tsv'"
   ]
  },
  {
   "cell_type": "code",
   "execution_count": 6,
   "id": "771a5c09",
   "metadata": {},
   "outputs": [
    {
     "name": "stdout",
     "output_type": "stream",
     "text": [
      "(597, 10)\n"
     ]
    }
   ],
   "source": [
    "df = pd.read_csv(load_data, sep='\\t')\n",
    "print(df.shape)"
   ]
  },
  {
   "cell_type": "code",
   "execution_count": 7,
   "id": "71e8fc42",
   "metadata": {},
   "outputs": [
    {
     "name": "stdout",
     "output_type": "stream",
     "text": [
      "(522, 10)\n"
     ]
    }
   ],
   "source": [
    "# Remove empty reddit posts\n",
    "\n",
    "df_clean = df[~df['claim_offsets'].str.contains('N.A.')]\n",
    "print(df_clean.shape)"
   ]
  },
  {
   "cell_type": "code",
   "execution_count": 8,
   "id": "5b53a15d",
   "metadata": {},
   "outputs": [
    {
     "data": {
      "text/html": [
       "<div>\n",
       "<style scoped>\n",
       "    .dataframe tbody tr th:only-of-type {\n",
       "        vertical-align: middle;\n",
       "    }\n",
       "\n",
       "    .dataframe tbody tr th {\n",
       "        vertical-align: top;\n",
       "    }\n",
       "\n",
       "    .dataframe thead th {\n",
       "        text-align: right;\n",
       "    }\n",
       "</style>\n",
       "<table border=\"1\" class=\"dataframe\">\n",
       "  <thead>\n",
       "    <tr style=\"text-align: right;\">\n",
       "      <th></th>\n",
       "      <th>Unnamed: 0</th>\n",
       "      <th>post_id</th>\n",
       "      <th>subreddit_id</th>\n",
       "      <th>claim</th>\n",
       "      <th>stage2_labels</th>\n",
       "      <th>text</th>\n",
       "      <th>labels_char</th>\n",
       "      <th>claim_offsets</th>\n",
       "      <th>tokens</th>\n",
       "      <th>labels</th>\n",
       "    </tr>\n",
       "  </thead>\n",
       "  <tbody>\n",
       "    <tr>\n",
       "      <th>0</th>\n",
       "      <td>0</td>\n",
       "      <td>sn9u41</td>\n",
       "      <td>t5_2s23e</td>\n",
       "      <td>I read an old thread on here that someone said...</td>\n",
       "      <td>[{\"crowd-entity-annotation\":{\"entities\":[{\"end...</td>\n",
       "      <td>Tysabri experiences\\nHi all\\n\\nI just had my 3...</td>\n",
       "      <td>[2, 2, 2, 2, 2, 2, 2, 2, 0, 0, 0, 0, 0, 0, 0, ...</td>\n",
       "      <td>(508, 724)</td>\n",
       "      <td>['Tysabri', 'experiences', 'Hi', 'all', 'I', '...</td>\n",
       "      <td>[2, 0, 0, 0, 0, 0, 0, 0, 0, 0, 0, 0, 0, 0, 0, ...</td>\n",
       "    </tr>\n",
       "    <tr>\n",
       "      <th>1</th>\n",
       "      <td>1</td>\n",
       "      <td>p7j49y</td>\n",
       "      <td>t5_2syer</td>\n",
       "      <td>I have read that gout can't be cured, that it'...</td>\n",
       "      <td>[{\"crowd-entity-annotation\":{\"entities\":[{\"end...</td>\n",
       "      <td>Crazy amount of sardines caused gout (possibly...</td>\n",
       "      <td>[0, 0, 0, 0, 0, 0, 0, 0, 0, 0, 0, 0, 0, 0, 0, ...</td>\n",
       "      <td>(1401, 1654)</td>\n",
       "      <td>['Crazy', 'amount', 'of', 'sardines', 'caused'...</td>\n",
       "      <td>[0, 0, 0, 0, 0, 0, 0, 0, 0, 0, 0, 0, 0, 0, 0, ...</td>\n",
       "    </tr>\n",
       "    <tr>\n",
       "      <th>2</th>\n",
       "      <td>2</td>\n",
       "      <td>smgy0q</td>\n",
       "      <td>t5_2s3g1</td>\n",
       "      <td>I always read stories of people who suffer fro...</td>\n",
       "      <td>[{\"crowd-entity-annotation\":{\"entities\":[{\"end...</td>\n",
       "      <td>Im sorry for intruding but I just want to say ...</td>\n",
       "      <td>[0, 0, 0, 0, 0, 0, 0, 0, 0, 0, 0, 0, 0, 0, 0, ...</td>\n",
       "      <td>(302, 419)</td>\n",
       "      <td>['Im', 'sorry', 'for', 'intruding', 'but', 'I'...</td>\n",
       "      <td>[0, 0, 0, 0, 0, 0, 0, 0, 0, 0, 0, 0, 0, 0, 0, ...</td>\n",
       "    </tr>\n",
       "    <tr>\n",
       "      <th>3</th>\n",
       "      <td>3</td>\n",
       "      <td>sxglhl</td>\n",
       "      <td>t5_2s3g1</td>\n",
       "      <td>Our results indicate that the addition of prob...</td>\n",
       "      <td>[{\"crowd-entity-annotation\":{\"entities\":[{\"end...</td>\n",
       "      <td>Is Bacillus coagulans supplementation plus low...</td>\n",
       "      <td>[0, 0, 0, 2, 2, 2, 2, 2, 2, 2, 2, 2, 2, 2, 2, ...</td>\n",
       "      <td>(1442, 1617)</td>\n",
       "      <td>['Is', 'Bacillus', 'coagulans', 'supplementati...</td>\n",
       "      <td>[0, 2, 2, 0, 0, 0, 2, 0, 0, 0, 0, 0, 0, 0, 1, ...</td>\n",
       "    </tr>\n",
       "    <tr>\n",
       "      <th>6</th>\n",
       "      <td>6</td>\n",
       "      <td>sfc8e0</td>\n",
       "      <td>t5_2tyg2</td>\n",
       "      <td>Here it says, in the DSM book</td>\n",
       "      <td>[{\"crowd-entity-annotation\":{\"entities\":[]}}]</td>\n",
       "      <td>Psychosis (as its described now) doesnt really...</td>\n",
       "      <td>[0, 0, 0, 0, 0, 0, 0, 0, 0, 0, 0, 0, 0, 0, 0, ...</td>\n",
       "      <td>(1568, 1597)</td>\n",
       "      <td>['Psychosis', '(as', 'its', 'described', 'now)...</td>\n",
       "      <td>[0, 0, 0, 0, 0, 0, 0, 0, 0, 0, 0, 0, 0, 0, 0, ...</td>\n",
       "    </tr>\n",
       "  </tbody>\n",
       "</table>\n",
       "</div>"
      ],
      "text/plain": [
       "   Unnamed: 0 post_id subreddit_id  \\\n",
       "0           0  sn9u41     t5_2s23e   \n",
       "1           1  p7j49y     t5_2syer   \n",
       "2           2  smgy0q     t5_2s3g1   \n",
       "3           3  sxglhl     t5_2s3g1   \n",
       "6           6  sfc8e0     t5_2tyg2   \n",
       "\n",
       "                                               claim  \\\n",
       "0  I read an old thread on here that someone said...   \n",
       "1  I have read that gout can't be cured, that it'...   \n",
       "2  I always read stories of people who suffer fro...   \n",
       "3  Our results indicate that the addition of prob...   \n",
       "6                      Here it says, in the DSM book   \n",
       "\n",
       "                                       stage2_labels  \\\n",
       "0  [{\"crowd-entity-annotation\":{\"entities\":[{\"end...   \n",
       "1  [{\"crowd-entity-annotation\":{\"entities\":[{\"end...   \n",
       "2  [{\"crowd-entity-annotation\":{\"entities\":[{\"end...   \n",
       "3  [{\"crowd-entity-annotation\":{\"entities\":[{\"end...   \n",
       "6      [{\"crowd-entity-annotation\":{\"entities\":[]}}]   \n",
       "\n",
       "                                                text  \\\n",
       "0  Tysabri experiences\\nHi all\\n\\nI just had my 3...   \n",
       "1  Crazy amount of sardines caused gout (possibly...   \n",
       "2  Im sorry for intruding but I just want to say ...   \n",
       "3  Is Bacillus coagulans supplementation plus low...   \n",
       "6  Psychosis (as its described now) doesnt really...   \n",
       "\n",
       "                                         labels_char claim_offsets  \\\n",
       "0  [2, 2, 2, 2, 2, 2, 2, 2, 0, 0, 0, 0, 0, 0, 0, ...    (508, 724)   \n",
       "1  [0, 0, 0, 0, 0, 0, 0, 0, 0, 0, 0, 0, 0, 0, 0, ...  (1401, 1654)   \n",
       "2  [0, 0, 0, 0, 0, 0, 0, 0, 0, 0, 0, 0, 0, 0, 0, ...    (302, 419)   \n",
       "3  [0, 0, 0, 2, 2, 2, 2, 2, 2, 2, 2, 2, 2, 2, 2, ...  (1442, 1617)   \n",
       "6  [0, 0, 0, 0, 0, 0, 0, 0, 0, 0, 0, 0, 0, 0, 0, ...  (1568, 1597)   \n",
       "\n",
       "                                              tokens  \\\n",
       "0  ['Tysabri', 'experiences', 'Hi', 'all', 'I', '...   \n",
       "1  ['Crazy', 'amount', 'of', 'sardines', 'caused'...   \n",
       "2  ['Im', 'sorry', 'for', 'intruding', 'but', 'I'...   \n",
       "3  ['Is', 'Bacillus', 'coagulans', 'supplementati...   \n",
       "6  ['Psychosis', '(as', 'its', 'described', 'now)...   \n",
       "\n",
       "                                              labels  \n",
       "0  [2, 0, 0, 0, 0, 0, 0, 0, 0, 0, 0, 0, 0, 0, 0, ...  \n",
       "1  [0, 0, 0, 0, 0, 0, 0, 0, 0, 0, 0, 0, 0, 0, 0, ...  \n",
       "2  [0, 0, 0, 0, 0, 0, 0, 0, 0, 0, 0, 0, 0, 0, 0, ...  \n",
       "3  [0, 2, 2, 0, 0, 0, 2, 0, 0, 0, 0, 0, 0, 0, 1, ...  \n",
       "6  [0, 0, 0, 0, 0, 0, 0, 0, 0, 0, 0, 0, 0, 0, 0, ...  "
      ]
     },
     "execution_count": 8,
     "metadata": {},
     "output_type": "execute_result"
    }
   ],
   "source": [
    "df_clean.head()"
   ]
  },
  {
   "cell_type": "code",
   "execution_count": 9,
   "id": "e451afcc",
   "metadata": {},
   "outputs": [],
   "source": [
    "picos_mapping = {'population': 1, 'intervention':2, 'outcome':3, 'oos':0}"
   ]
  },
  {
   "cell_type": "markdown",
   "id": "750da756",
   "metadata": {},
   "source": [
    "### Reddit post lengths"
   ]
  },
  {
   "cell_type": "code",
   "execution_count": 10,
   "id": "58290d2a",
   "metadata": {},
   "outputs": [],
   "source": [
    "lengths = [ len( ast.literal_eval(i)) for i in df_clean.tokens ]"
   ]
  },
  {
   "cell_type": "code",
   "execution_count": 11,
   "id": "4f1929ea",
   "metadata": {},
   "outputs": [
    {
     "data": {
      "image/png": "[encoded data removed]",
      "text/plain": [
       "<Figure size 432x288 with 1 Axes>"
      ]
     },
     "metadata": {
      "needs_background": "light"
     },
     "output_type": "display_data"
    }
   ],
   "source": [
    "plt.hist(lengths, bins=30)  # density=False would make counts\n",
    "plt.ylabel('Probability')\n",
    "plt.xlabel('Data');"
   ]
  },
  {
   "cell_type": "markdown",
   "id": "987786e2",
   "metadata": {},
   "source": [
    "### class vs out-of-the-class tokens"
   ]
  },
  {
   "cell_type": "code",
   "execution_count": 12,
   "id": "9a6ad7f0",
   "metadata": {},
   "outputs": [],
   "source": [
    "def class_ratio(labels, entity):\n",
    "    \n",
    "    entity_num = picos_mapping[entity]\n",
    "    \n",
    "    out_of_span_counter = 0\n",
    "    class_counter = 0\n",
    "    \n",
    "    for i in labels:\n",
    "        lab_i = ast.literal_eval(i)\n",
    "        if len(lab_i)>1:\n",
    "            counts = collections.Counter( lab_i )\n",
    "            counts = dict( counts )\n",
    "            out_of_span_counter = out_of_span_counter + counts[0]\n",
    "            if entity_num in counts:\n",
    "                class_counter = class_counter + counts[entity_num]\n",
    "                \n",
    "    count_summary = {str(entity): class_counter, 'oos':out_of_span_counter}\n",
    "                \n",
    "    return count_summary"
   ]
  },
  {
   "cell_type": "code",
   "execution_count": 13,
   "id": "30c18086",
   "metadata": {},
   "outputs": [
    {
     "name": "stdout",
     "output_type": "stream",
     "text": [
      "{'population': 469, 'oos': 82592}\n",
      "{'intervention': 882, 'oos': 82592}\n",
      "{'outcome': 879, 'oos': 82592}\n"
     ]
    },
    {
     "data": {
      "image/png": "[encoded data removed]",
      "text/plain": [
       "<Figure size 432x288 with 1 Axes>"
      ]
     },
     "metadata": {
      "needs_background": "light"
     },
     "output_type": "display_data"
    }
   ],
   "source": [
    "for x in [ 'population', 'intervention', 'outcome' ]:\n",
    "    count_summary = class_ratio(df_clean.labels, x)\n",
    "    print( count_summary )\n",
    "    plt.bar(list(count_summary.keys()), count_summary.values(), color='g')\n",
    "    plt.title(f'PICOS class vs out-of-the-span histogram for {x} labels')\n",
    "    plt.xlabel('entities')\n",
    "    plt.ylabel('counts')"
   ]
  },
  {
   "cell_type": "markdown",
   "id": "dc0093c6",
   "metadata": {},
   "source": [
    "### Inspect the PICO annotations"
   ]
  },
  {
   "cell_type": "code",
   "execution_count": 14,
   "id": "e894e0d7",
   "metadata": {},
   "outputs": [],
   "source": [
    "picos_colors_mapping = {'population': 'green', 'intervention': 'red', 'outcome': 'blue', 'oos':'black'}"
   ]
  },
  {
   "cell_type": "code",
   "execution_count": 15,
   "id": "59e4b607",
   "metadata": {},
   "outputs": [],
   "source": [
    "def inspect_annots(entity, df_):\n",
    "    terms_all = []\n",
    "    terms_lengths = []\n",
    "\n",
    "    for counter, (tok, lab) in enumerate(zip(df_.tokens.values, df_.labels.values)):\n",
    "        \n",
    "        tok = ast.literal_eval(tok)\n",
    "        lab = ast.literal_eval(lab)\n",
    "        \n",
    "        \n",
    "        captured_ind = []\n",
    "        captured_cons_ind = []\n",
    "        for counter_i, (t, l) in  enumerate(zip(tok, lab)):\n",
    "            if l == picos_mapping[entity]:\n",
    "                captured_ind.append( counter_i )\n",
    "\n",
    "        for k, g in groupby(enumerate(captured_ind), lambda ix : ix[0] - ix[1]):\n",
    "            label_indices = list(map(itemgetter(1), g))\n",
    "            captured_cons_ind.append( label_indices )\n",
    "\n",
    "        #print('\\n-----------------------------------------------')\n",
    "\n",
    "        for x in captured_cons_ind:\n",
    "            #print(x)\n",
    "            p_term = [tok[x_i] for x_i in x]\n",
    "            terms_lengths.append( len(p_term) )\n",
    "            p_term = ' '.join(p_term)\n",
    "            terms_all.append( p_term )\n",
    "            \n",
    "            \n",
    "    return terms_lengths, terms_all"
   ]
  },
  {
   "cell_type": "code",
   "execution_count": 16,
   "id": "d70ac69e",
   "metadata": {},
   "outputs": [],
   "source": [
    "def plot_common_words(description_list, n):\n",
    "    # Assign the Counter instance `most_common` call to a variable:\n",
    "    word_frequency = Counter(\" \".join(description_list).split()).most_common(n)\n",
    "\n",
    "    # `most_common` returns a list of (word, count) tuples\n",
    "    words = [word for word, _ in word_frequency]\n",
    "    counts = [counts for _, counts in word_frequency]\n",
    "    \n",
    "    fig = plt.figure(figsize=(7, 5))\n",
    "    plt.bar(words, counts, color = picos_colors_mapping[picos_i])\n",
    "    plt.title(\"10 most frequent tokens in the list\")\n",
    "    plt.ylabel(\"Frequency\")\n",
    "    plt.xlabel(\"Words\")\n",
    "    plt.xticks(rotation=45, ha='right')\n",
    "\n",
    "    plt.show()"
   ]
  },
  {
   "cell_type": "code",
   "execution_count": 17,
   "id": "51450a9d",
   "metadata": {},
   "outputs": [
    {
     "data": {
      "image/png": "[encoded data removed]",
      "text/plain": [
       "<Figure size 504x360 with 1 Axes>"
      ]
     },
     "metadata": {
      "needs_background": "light"
     },
     "output_type": "display_data"
    },
    {
     "data": {
      "image/png": "[encoded data removed]",
      "text/plain": [
       "<Figure size 504x360 with 1 Axes>"
      ]
     },
     "metadata": {
      "needs_background": "light"
     },
     "output_type": "display_data"
    },
    {
     "data": {
      "image/png": "[encoded data removed]",
      "text/plain": [
       "<Figure size 504x360 with 1 Axes>"
      ]
     },
     "metadata": {
      "needs_background": "light"
     },
     "output_type": "display_data"
    },
    {
     "data": {
      "image/png": "[encoded data removed]",
      "text/plain": [
       "<Figure size 504x360 with 1 Axes>"
      ]
     },
     "metadata": {
      "needs_background": "light"
     },
     "output_type": "display_data"
    },
    {
     "data": {
      "image/png": "[encoded data removed]",
      "text/plain": [
       "<Figure size 504x360 with 1 Axes>"
      ]
     },
     "metadata": {
      "needs_background": "light"
     },
     "output_type": "display_data"
    },
    {
     "data": {
      "image/png": "[encoded data removed]",
      "text/plain": [
       "<Figure size 504x360 with 1 Axes>"
      ]
     },
     "metadata": {
      "needs_background": "light"
     },
     "output_type": "display_data"
    }
   ],
   "source": [
    "for picos_i in [ 'population', 'intervention', 'outcome' ]:\n",
    "    \n",
    "    terms_i_lengths, terms_i_all = inspect_annots(picos_i, df_clean)   \n",
    "\n",
    "    fig = plt.figure(figsize=(7, 5))\n",
    "    plt.hist( terms_i_lengths, bins=10, color = picos_colors_mapping[picos_i]) \n",
    "    plt.title(f'n-grams vs counts chart for {picos_i} labels')\n",
    "    plt.xlabel('n-grams')\n",
    "    plt.ylabel('counts')\n",
    "        \n",
    "    plt.show()\n",
    "    \n",
    "    plot_common_words(terms_i_all, 20)"
   ]
  },
  {
   "cell_type": "markdown",
   "id": "3a58c3f7",
   "metadata": {},
   "source": [
    "Some notes: <br>\n",
    "\n",
    "Participants: Lots of abbreviations. Consider them in the training and could use that in augmentation."
   ]
  },
  {
   "cell_type": "markdown",
   "id": "7e14b969",
   "metadata": {},
   "source": [
    "### Class overlap"
   ]
  },
  {
   "cell_type": "code",
   "execution_count": 18,
   "id": "182d153d",
   "metadata": {},
   "outputs": [],
   "source": [
    "def class_overlap(tokens, labels):\n",
    "    \n",
    "    par = []\n",
    "    inter = []\n",
    "    out = []\n",
    "    oos = []\n",
    "    \n",
    "    for t, l in zip(tokens, labels):\n",
    "        tok_i = ast.literal_eval(t)\n",
    "        lab_i = ast.literal_eval(l)\n",
    "        \n",
    "        if len(lab_i)>1:\n",
    "            \n",
    "            for i,j in zip(tok_i, lab_i):\n",
    "                if j == 0:\n",
    "                    oos.append(i)\n",
    "                if j == 1:\n",
    "                    par.append(i)\n",
    "                if j == 2:\n",
    "                    inter.append(i)\n",
    "                if j == 3:\n",
    "                    out.append(i)\n",
    "\n",
    "    return { 'participant': par, 'intervention': inter, 'outcome': out, 'oos': oos }\n",
    "\n",
    "\n",
    "tokens_dict = class_overlap(df_clean.tokens, df_clean.labels)"
   ]
  },
  {
   "cell_type": "code",
   "execution_count": 95,
   "id": "d6d21be5",
   "metadata": {},
   "outputs": [],
   "source": [
    "for pair in itertools.combinations(['participant','intervention','outcome','oos'], 2):\n",
    "    \n",
    "    t1 = tokens_dict[ pair[0] ]\n",
    "    t2 = tokens_dict[ pair[1] ]\n",
    "    \n",
    "    common = list(set(t1).intersection(t2))\n",
    "    #print( f'Common tokens between {pair[0]} and {pair[1]}: {common} \\n' )\n",
    "    #print( f'Total number of common tokens between {pair[0]} and {pair[1]}: {len(common)} \\n' )\n",
    "    #print(' -------------------------------------------------------------------- ')"
   ]
  },
  {
   "cell_type": "markdown",
   "id": "7518a9b2",
   "metadata": {},
   "source": [
    "### POS tag distributions"
   ]
  },
  {
   "cell_type": "code",
   "execution_count": 20,
   "id": "3610956a",
   "metadata": {},
   "outputs": [],
   "source": [
    "from spacy.glossary import GLOSSARY\n",
    "lookup_dict = GLOSSARY"
   ]
  },
  {
   "cell_type": "code",
   "execution_count": 96,
   "id": "e2efdf20",
   "metadata": {},
   "outputs": [],
   "source": [
    "#lookup_dict"
   ]
  },
  {
   "cell_type": "code",
   "execution_count": 22,
   "id": "34cb8ef5",
   "metadata": {},
   "outputs": [],
   "source": [
    "pos_2_num = dict( zip(lookup_dict.keys(), [*range(len(lookup_dict))]) )"
   ]
  },
  {
   "cell_type": "code",
   "execution_count": 50,
   "id": "8a6c8550",
   "metadata": {},
   "outputs": [],
   "source": [
    "def getPOStags(value):\n",
    "    \n",
    "    value = ast.literal_eval(value)\n",
    "    pos = []\n",
    "    \n",
    "    for v in value:\n",
    "        if type(v) == str:\n",
    "            doc = en(v)\n",
    "            tok_pos = [ token.tag_ for token in doc ]\n",
    "            pos.append( tok_pos[0] )\n",
    "        else:\n",
    "            pos.append( 'N.A.' )\n",
    "\n",
    "    return pos\n",
    "\n",
    "def getPOSCoarsetags(value):\n",
    "    \n",
    "    value = ast.literal_eval(value)\n",
    "    pos = []\n",
    "    \n",
    "    for v in value:\n",
    "        if type(v) == str:\n",
    "            doc = en(v)\n",
    "            tok_pos = [ token.pos_ for token in doc ]\n",
    "            pos.append( tok_pos[0] )\n",
    "        else:\n",
    "            pos.append( 'N.A.' )\n",
    "\n",
    "    return pos"
   ]
  },
  {
   "cell_type": "code",
   "execution_count": 51,
   "id": "1f01921b",
   "metadata": {},
   "outputs": [
    {
     "data": {
      "application/vnd.jupyter.widget-view+json": {
       "model_id": "20df0251bb744bc7a91c473088f55ef5",
       "version_major": 2,
       "version_minor": 0
      },
      "text/plain": [
       "  0%|          | 0/522 [00:00<?, ?it/s]"
      ]
     },
     "metadata": {},
     "output_type": "display_data"
    },
    {
     "name": "stderr",
     "output_type": "stream",
     "text": [
      "<ipython-input-51-82048b31a2f8>:1: SettingWithCopyWarning: \n",
      "A value is trying to be set on a copy of a slice from a DataFrame.\n",
      "Try using .loc[row_indexer,col_indexer] = value instead\n",
      "\n",
      "See the caveats in the documentation: https://pandas.pydata.org/pandas-docs/stable/user_guide/indexing.html#returning-a-view-versus-a-copy\n",
      "  df_clean['pos'] = df_clean.tokens.progress_apply(getPOSCoarsetags)\n"
     ]
    }
   ],
   "source": [
    "df_clean['pos'] = df_clean.tokens.progress_apply(getPOSCoarsetags)"
   ]
  },
  {
   "cell_type": "code",
   "execution_count": 24,
   "id": "b2c655af",
   "metadata": {},
   "outputs": [
    {
     "data": {
      "application/vnd.jupyter.widget-view+json": {
       "model_id": "e311feeda87d47c2ace959ea96c32b78",
       "version_major": 2,
       "version_minor": 0
      },
      "text/plain": [
       "  0%|          | 0/522 [00:00<?, ?it/s]"
      ]
     },
     "metadata": {},
     "output_type": "display_data"
    },
    {
     "name": "stderr",
     "output_type": "stream",
     "text": [
      "<ipython-input-24-eecf2b10fe2d>:1: SettingWithCopyWarning: \n",
      "A value is trying to be set on a copy of a slice from a DataFrame.\n",
      "Try using .loc[row_indexer,col_indexer] = value instead\n",
      "\n",
      "See the caveats in the documentation: https://pandas.pydata.org/pandas-docs/stable/user_guide/indexing.html#returning-a-view-versus-a-copy\n",
      "  df_clean['pos'] = df_clean.tokens.progress_apply(getPOStags)\n"
     ]
    }
   ],
   "source": [
    "df_clean['pos_fine'] = df_clean.tokens.progress_apply(getPOStags)"
   ]
  },
  {
   "cell_type": "code",
   "execution_count": 25,
   "id": "63cde07e",
   "metadata": {},
   "outputs": [],
   "source": [
    "def get_pos_distribution(pos, lab, ent):\n",
    "    \n",
    "    pos_ent = []\n",
    "    \n",
    "    for p, j in zip( pos, lab ):\n",
    "            \n",
    "        #p = ast.literal_eval(i)\n",
    "        l = ast.literal_eval(j)\n",
    "    \n",
    "        for p_i, l_i in zip(p, l):\n",
    "            if l_i == picos_mapping[ent]:\n",
    "                pos_ent.append( p_i )\n",
    "    \n",
    "    pos_counts = collections.Counter(pos_ent)\n",
    "    pos_counts = dict( pos_counts.most_common(10) )\n",
    "    \n",
    "    fig = plt.figure(figsize=(12, 5))\n",
    "    plt.bar(pos_counts.keys(), pos_counts.values(), color = picos_colors_mapping[ent])\n",
    "    plt.title(f'POS tags counts in the {ent} class')\n",
    "    plt.ylabel(\"Counts\")\n",
    "    plt.xlabel(\"POS tags\")\n",
    "    plt.xticks(rotation=45, ha='right')\n",
    "    plt.show()\n",
    "    \n",
    "    # Distribution\n",
    "    # create figure and axes\n",
    "    pos_ent_num = [pos_2_num[i] for i in pos_ent]\n",
    "    graph = sns.displot( data=pos_ent_num, stat='count', height=4, aspect=1.5, kde=True )\n",
    "    \n",
    "    return pos_counts"
   ]
  },
  {
   "cell_type": "code",
   "execution_count": 26,
   "id": "1e512d1d",
   "metadata": {},
   "outputs": [
    {
     "data": {
      "image/png": "[encoded data removed]",
      "text/plain": [
       "<Figure size 864x360 with 1 Axes>"
      ]
     },
     "metadata": {
      "needs_background": "light"
     },
     "output_type": "display_data"
    },
    {
     "data": {
      "image/png": "[encoded data removed]",
      "text/plain": [
       "<Figure size 432x288 with 1 Axes>"
      ]
     },
     "metadata": {
      "needs_background": "light"
     },
     "output_type": "display_data"
    },
    {
     "data": {
      "image/png": "[encoded data removed]",
      "text/plain": [
       "<Figure size 864x360 with 1 Axes>"
      ]
     },
     "metadata": {
      "needs_background": "light"
     },
     "output_type": "display_data"
    },
    {
     "data": {
      "image/png": "[encoded data removed]",
      "text/plain": [
       "<Figure size 432x288 with 1 Axes>"
      ]
     },
     "metadata": {
      "needs_background": "light"
     },
     "output_type": "display_data"
    },
    {
     "data": {
      "image/png": "[encoded data removed]",
      "text/plain": [
       "<Figure size 864x360 with 1 Axes>"
      ]
     },
     "metadata": {
      "needs_background": "light"
     },
     "output_type": "display_data"
    },
    {
     "data": {
      "image/png": "[encoded data removed]",
      "text/plain": [
       "<Figure size 432x288 with 1 Axes>"
      ]
     },
     "metadata": {
      "needs_background": "light"
     },
     "output_type": "display_data"
    },
    {
     "data": {
      "image/png": "[encoded data removed]",
      "text/plain": [
       "<Figure size 864x360 with 1 Axes>"
      ]
     },
     "metadata": {
      "needs_background": "light"
     },
     "output_type": "display_data"
    },
    {
     "data": {
      "image/png": "[encoded data removed]",
      "text/plain": [
       "<Figure size 432x288 with 1 Axes>"
      ]
     },
     "metadata": {
      "needs_background": "light"
     },
     "output_type": "display_data"
    }
   ],
   "source": [
    "for i in ['population', 'intervention', 'outcome','oos']:\n",
    "    get_pos_distribution( df_clean.pos, df_clean.labels , i )"
   ]
  },
  {
   "cell_type": "markdown",
   "id": "1dfa1cc9",
   "metadata": {},
   "source": [
    "Notes: POS tag distributions are different/discriminatory for the PICO tags"
   ]
  },
  {
   "cell_type": "markdown",
   "id": "3c62ec11",
   "metadata": {},
   "source": [
    "### Examine individual PICO"
   ]
  },
  {
   "cell_type": "code",
   "execution_count": 97,
   "id": "f7a649ec",
   "metadata": {},
   "outputs": [],
   "source": [
    "for picos_i in [ 'outcome' ]:\n",
    "    \n",
    "    _, terms_i_all = inspect_annots(picos_i, df_clean)\n",
    "    \n",
    "    #for i in list(set(terms_i_all)):\n",
    "        #print(i)"
   ]
  },
  {
   "cell_type": "markdown",
   "id": "9c33dc40",
   "metadata": {},
   "source": [
    "### Examine social media posts"
   ]
  },
  {
   "cell_type": "code",
   "execution_count": 28,
   "id": "768afe19",
   "metadata": {},
   "outputs": [
    {
     "data": {
      "text/plain": [
       "(522, 11)"
      ]
     },
     "execution_count": 28,
     "metadata": {},
     "output_type": "execute_result"
    }
   ],
   "source": [
    "df_clean.shape"
   ]
  },
  {
   "cell_type": "code",
   "execution_count": 99,
   "id": "bbc5144a",
   "metadata": {},
   "outputs": [],
   "source": [
    "#for i in df_clean.tokens:\n",
    "    #print(i)\n",
    "    #print('-------------------------------')"
   ]
  },
  {
   "cell_type": "markdown",
   "id": "e40c25a2",
   "metadata": {},
   "source": [
    "### Divide the df into training and validation set"
   ]
  },
  {
   "cell_type": "code",
   "execution_count": 30,
   "id": "01dc1838",
   "metadata": {},
   "outputs": [],
   "source": [
    "train_df, val_df = train_test_split(df_clean, shuffle=False, random_state=random_seed)"
   ]
  },
  {
   "cell_type": "code",
   "execution_count": 31,
   "id": "bba41c63",
   "metadata": {},
   "outputs": [],
   "source": [
    "# Use validation set directory to build models\n",
    "participant_labels = []\n",
    "intervention_labels = []\n",
    "outcome_labels = []\n",
    "\n",
    "for picos_i in [ 'population', 'intervention', 'outcome' ]:\n",
    "    \n",
    "    terms_i_lengths, terms_i_all = inspect_annots(picos_i, df_clean)\n",
    "    for t in terms_i_all:\n",
    "        if picos_i == 'population':\n",
    "            participant_labels.append(t)\n",
    "        if picos_i == 'intervention':\n",
    "            intervention_labels.append(t)\n",
    "        if picos_i == 'outcome':\n",
    "            outcome_labels.append(t)"
   ]
  },
  {
   "cell_type": "markdown",
   "id": "23198884",
   "metadata": {},
   "source": [
    "### Lemma, Stemming, other info"
   ]
  },
  {
   "cell_type": "code",
   "execution_count": 34,
   "id": "b0b54c50",
   "metadata": {},
   "outputs": [],
   "source": [
    "def getLemma(value):\n",
    "    \n",
    "    value = ast.literal_eval(value)\n",
    "    lemma = []\n",
    "    \n",
    "    for v in value:\n",
    "        if type(v) == str:\n",
    "            doc = en(v)\n",
    "            tok_lemma = [ token.lemma_ for token in doc ]\n",
    "            lemma.append( tok_lemma[0] )\n",
    "        else:\n",
    "            lemma.append( 'N.A.' )\n",
    "\n",
    "    return lemma"
   ]
  },
  {
   "cell_type": "code",
   "execution_count": 35,
   "id": "59b1f1a0",
   "metadata": {},
   "outputs": [
    {
     "data": {
      "application/vnd.jupyter.widget-view+json": {
       "model_id": "f2b66a7af74a4fc2b999bf1b8bd8c660",
       "version_major": 2,
       "version_minor": 0
      },
      "text/plain": [
       "  0%|          | 0/522 [00:00<?, ?it/s]"
      ]
     },
     "metadata": {},
     "output_type": "display_data"
    },
    {
     "name": "stderr",
     "output_type": "stream",
     "text": [
      "<ipython-input-35-05a4a1abbb9b>:1: SettingWithCopyWarning: \n",
      "A value is trying to be set on a copy of a slice from a DataFrame.\n",
      "Try using .loc[row_indexer,col_indexer] = value instead\n",
      "\n",
      "See the caveats in the documentation: https://pandas.pydata.org/pandas-docs/stable/user_guide/indexing.html#returning-a-view-versus-a-copy\n",
      "  df_clean['lemma'] = df_clean.tokens.progress_apply(getLemma)\n"
     ]
    }
   ],
   "source": [
    "df_clean['lemma'] = df_clean.tokens.progress_apply(getLemma)"
   ]
  },
  {
   "cell_type": "code",
   "execution_count": 87,
   "id": "0fb55087",
   "metadata": {},
   "outputs": [
    {
     "data": {
      "text/html": [
       "<div>\n",
       "<style scoped>\n",
       "    .dataframe tbody tr th:only-of-type {\n",
       "        vertical-align: middle;\n",
       "    }\n",
       "\n",
       "    .dataframe tbody tr th {\n",
       "        vertical-align: top;\n",
       "    }\n",
       "\n",
       "    .dataframe thead th {\n",
       "        text-align: right;\n",
       "    }\n",
       "</style>\n",
       "<table border=\"1\" class=\"dataframe\">\n",
       "  <thead>\n",
       "    <tr style=\"text-align: right;\">\n",
       "      <th></th>\n",
       "      <th>Unnamed: 0</th>\n",
       "      <th>post_id</th>\n",
       "      <th>subreddit_id</th>\n",
       "      <th>claim</th>\n",
       "      <th>stage2_labels</th>\n",
       "      <th>text</th>\n",
       "      <th>labels_char</th>\n",
       "      <th>claim_offsets</th>\n",
       "      <th>tokens</th>\n",
       "      <th>labels</th>\n",
       "      <th>pos_fine</th>\n",
       "      <th>lemma</th>\n",
       "      <th>pos</th>\n",
       "    </tr>\n",
       "  </thead>\n",
       "  <tbody>\n",
       "    <tr>\n",
       "      <th>0</th>\n",
       "      <td>0</td>\n",
       "      <td>sn9u41</td>\n",
       "      <td>t5_2s23e</td>\n",
       "      <td>I read an old thread on here that someone said...</td>\n",
       "      <td>[{\"crowd-entity-annotation\":{\"entities\":[{\"end...</td>\n",
       "      <td>Tysabri experiences\\nHi all\\n\\nI just had my 3...</td>\n",
       "      <td>[2, 2, 2, 2, 2, 2, 2, 2, 0, 0, 0, 0, 0, 0, 0, ...</td>\n",
       "      <td>(508, 724)</td>\n",
       "      <td>['Tysabri', 'experiences', 'Hi', 'all', 'I', '...</td>\n",
       "      <td>[2, 0, 0, 0, 0, 0, 0, 0, 0, 0, 0, 0, 0, 0, 0, ...</td>\n",
       "      <td>[NNP, NNS, UH, NNP, PRP, RB, VBD, UH, NN, NNP,...</td>\n",
       "      <td>[Tysabri, experience, hi, all, I, just, have, ...</td>\n",
       "      <td>[PROPN, NOUN, INTJ, PROPN, PRON, ADV, VERB, IN...</td>\n",
       "    </tr>\n",
       "    <tr>\n",
       "      <th>1</th>\n",
       "      <td>1</td>\n",
       "      <td>p7j49y</td>\n",
       "      <td>t5_2syer</td>\n",
       "      <td>I have read that gout can't be cured, that it'...</td>\n",
       "      <td>[{\"crowd-entity-annotation\":{\"entities\":[{\"end...</td>\n",
       "      <td>Crazy amount of sardines caused gout (possibly...</td>\n",
       "      <td>[0, 0, 0, 0, 0, 0, 0, 0, 0, 0, 0, 0, 0, 0, 0, ...</td>\n",
       "      <td>(1401, 1654)</td>\n",
       "      <td>['Crazy', 'amount', 'of', 'sardines', 'caused'...</td>\n",
       "      <td>[0, 0, 0, 0, 0, 0, 0, 0, 0, 0, 0, 0, 0, 0, 0, ...</td>\n",
       "      <td>[JJ, NN, IN, NNP, VBN, NN, -LRB-, JJ, UH, IN, ...</td>\n",
       "      <td>[crazy, amount, of, sardines, cause, gout, (, ...</td>\n",
       "      <td>[ADJ, NOUN, ADP, PROPN, VERB, NOUN, PUNCT, ADJ...</td>\n",
       "    </tr>\n",
       "    <tr>\n",
       "      <th>2</th>\n",
       "      <td>2</td>\n",
       "      <td>smgy0q</td>\n",
       "      <td>t5_2s3g1</td>\n",
       "      <td>I always read stories of people who suffer fro...</td>\n",
       "      <td>[{\"crowd-entity-annotation\":{\"entities\":[{\"end...</td>\n",
       "      <td>Im sorry for intruding but I just want to say ...</td>\n",
       "      <td>[0, 0, 0, 0, 0, 0, 0, 0, 0, 0, 0, 0, 0, 0, 0, ...</td>\n",
       "      <td>(302, 419)</td>\n",
       "      <td>['Im', 'sorry', 'for', 'intruding', 'but', 'I'...</td>\n",
       "      <td>[0, 0, 0, 0, 0, 0, 0, 0, 0, 0, 0, 0, 0, 0, 0, ...</td>\n",
       "      <td>[UH, JJ, IN, VBG, CC, PRP, RB, VB, VB, VB, WRB...</td>\n",
       "      <td>[i, sorry, for, intrude, but, I, just, want, t...</td>\n",
       "      <td>[INTJ, ADJ, ADP, VERB, CCONJ, PRON, ADV, VERB,...</td>\n",
       "    </tr>\n",
       "    <tr>\n",
       "      <th>3</th>\n",
       "      <td>3</td>\n",
       "      <td>sxglhl</td>\n",
       "      <td>t5_2s3g1</td>\n",
       "      <td>Our results indicate that the addition of prob...</td>\n",
       "      <td>[{\"crowd-entity-annotation\":{\"entities\":[{\"end...</td>\n",
       "      <td>Is Bacillus coagulans supplementation plus low...</td>\n",
       "      <td>[0, 0, 0, 2, 2, 2, 2, 2, 2, 2, 2, 2, 2, 2, 2, ...</td>\n",
       "      <td>(1442, 1617)</td>\n",
       "      <td>['Is', 'Bacillus', 'coagulans', 'supplementati...</td>\n",
       "      <td>[0, 2, 2, 0, 0, 0, 2, 0, 0, 0, 0, 0, 0, 0, 1, ...</td>\n",
       "      <td>[VBZ, NNP, NNS, NN, CC, JJ, NNP, NN, JJ, VB, J...</td>\n",
       "      <td>[be, Bacillus, coagulan, supplementation, plus...</td>\n",
       "      <td>[VERB, PROPN, NOUN, NOUN, CCONJ, ADJ, PROPN, N...</td>\n",
       "    </tr>\n",
       "    <tr>\n",
       "      <th>6</th>\n",
       "      <td>6</td>\n",
       "      <td>sfc8e0</td>\n",
       "      <td>t5_2tyg2</td>\n",
       "      <td>Here it says, in the DSM book</td>\n",
       "      <td>[{\"crowd-entity-annotation\":{\"entities\":[]}}]</td>\n",
       "      <td>Psychosis (as its described now) doesnt really...</td>\n",
       "      <td>[0, 0, 0, 0, 0, 0, 0, 0, 0, 0, 0, 0, 0, 0, 0, ...</td>\n",
       "      <td>(1568, 1597)</td>\n",
       "      <td>['Psychosis', '(as', 'its', 'described', 'now)...</td>\n",
       "      <td>[0, 0, 0, 0, 0, 0, 0, 0, 0, 0, 0, 0, 0, 0, 0, ...</td>\n",
       "      <td>[NN, -LRB-, PRP, VBN, RB, VBZ, RB, VB, IN, PRP...</td>\n",
       "      <td>[psychosis, (, its, describe, now, do, really,...</td>\n",
       "      <td>[NOUN, PUNCT, PRON, VERB, ADV, VERB, ADV, VERB...</td>\n",
       "    </tr>\n",
       "  </tbody>\n",
       "</table>\n",
       "</div>"
      ],
      "text/plain": [
       "   Unnamed: 0 post_id subreddit_id  \\\n",
       "0           0  sn9u41     t5_2s23e   \n",
       "1           1  p7j49y     t5_2syer   \n",
       "2           2  smgy0q     t5_2s3g1   \n",
       "3           3  sxglhl     t5_2s3g1   \n",
       "6           6  sfc8e0     t5_2tyg2   \n",
       "\n",
       "                                               claim  \\\n",
       "0  I read an old thread on here that someone said...   \n",
       "1  I have read that gout can't be cured, that it'...   \n",
       "2  I always read stories of people who suffer fro...   \n",
       "3  Our results indicate that the addition of prob...   \n",
       "6                      Here it says, in the DSM book   \n",
       "\n",
       "                                       stage2_labels  \\\n",
       "0  [{\"crowd-entity-annotation\":{\"entities\":[{\"end...   \n",
       "1  [{\"crowd-entity-annotation\":{\"entities\":[{\"end...   \n",
       "2  [{\"crowd-entity-annotation\":{\"entities\":[{\"end...   \n",
       "3  [{\"crowd-entity-annotation\":{\"entities\":[{\"end...   \n",
       "6      [{\"crowd-entity-annotation\":{\"entities\":[]}}]   \n",
       "\n",
       "                                                text  \\\n",
       "0  Tysabri experiences\\nHi all\\n\\nI just had my 3...   \n",
       "1  Crazy amount of sardines caused gout (possibly...   \n",
       "2  Im sorry for intruding but I just want to say ...   \n",
       "3  Is Bacillus coagulans supplementation plus low...   \n",
       "6  Psychosis (as its described now) doesnt really...   \n",
       "\n",
       "                                         labels_char claim_offsets  \\\n",
       "0  [2, 2, 2, 2, 2, 2, 2, 2, 0, 0, 0, 0, 0, 0, 0, ...    (508, 724)   \n",
       "1  [0, 0, 0, 0, 0, 0, 0, 0, 0, 0, 0, 0, 0, 0, 0, ...  (1401, 1654)   \n",
       "2  [0, 0, 0, 0, 0, 0, 0, 0, 0, 0, 0, 0, 0, 0, 0, ...    (302, 419)   \n",
       "3  [0, 0, 0, 2, 2, 2, 2, 2, 2, 2, 2, 2, 2, 2, 2, ...  (1442, 1617)   \n",
       "6  [0, 0, 0, 0, 0, 0, 0, 0, 0, 0, 0, 0, 0, 0, 0, ...  (1568, 1597)   \n",
       "\n",
       "                                              tokens  \\\n",
       "0  ['Tysabri', 'experiences', 'Hi', 'all', 'I', '...   \n",
       "1  ['Crazy', 'amount', 'of', 'sardines', 'caused'...   \n",
       "2  ['Im', 'sorry', 'for', 'intruding', 'but', 'I'...   \n",
       "3  ['Is', 'Bacillus', 'coagulans', 'supplementati...   \n",
       "6  ['Psychosis', '(as', 'its', 'described', 'now)...   \n",
       "\n",
       "                                              labels  \\\n",
       "0  [2, 0, 0, 0, 0, 0, 0, 0, 0, 0, 0, 0, 0, 0, 0, ...   \n",
       "1  [0, 0, 0, 0, 0, 0, 0, 0, 0, 0, 0, 0, 0, 0, 0, ...   \n",
       "2  [0, 0, 0, 0, 0, 0, 0, 0, 0, 0, 0, 0, 0, 0, 0, ...   \n",
       "3  [0, 2, 2, 0, 0, 0, 2, 0, 0, 0, 0, 0, 0, 0, 1, ...   \n",
       "6  [0, 0, 0, 0, 0, 0, 0, 0, 0, 0, 0, 0, 0, 0, 0, ...   \n",
       "\n",
       "                                            pos_fine  \\\n",
       "0  [NNP, NNS, UH, NNP, PRP, RB, VBD, UH, NN, NNP,...   \n",
       "1  [JJ, NN, IN, NNP, VBN, NN, -LRB-, JJ, UH, IN, ...   \n",
       "2  [UH, JJ, IN, VBG, CC, PRP, RB, VB, VB, VB, WRB...   \n",
       "3  [VBZ, NNP, NNS, NN, CC, JJ, NNP, NN, JJ, VB, J...   \n",
       "6  [NN, -LRB-, PRP, VBN, RB, VBZ, RB, VB, IN, PRP...   \n",
       "\n",
       "                                               lemma  \\\n",
       "0  [Tysabri, experience, hi, all, I, just, have, ...   \n",
       "1  [crazy, amount, of, sardines, cause, gout, (, ...   \n",
       "2  [i, sorry, for, intrude, but, I, just, want, t...   \n",
       "3  [be, Bacillus, coagulan, supplementation, plus...   \n",
       "6  [psychosis, (, its, describe, now, do, really,...   \n",
       "\n",
       "                                                 pos  \n",
       "0  [PROPN, NOUN, INTJ, PROPN, PRON, ADV, VERB, IN...  \n",
       "1  [ADJ, NOUN, ADP, PROPN, VERB, NOUN, PUNCT, ADJ...  \n",
       "2  [INTJ, ADJ, ADP, VERB, CCONJ, PRON, ADV, VERB,...  \n",
       "3  [VERB, PROPN, NOUN, NOUN, CCONJ, ADJ, PROPN, N...  \n",
       "6  [NOUN, PUNCT, PRON, VERB, ADV, VERB, ADV, VERB...  "
      ]
     },
     "execution_count": 87,
     "metadata": {},
     "output_type": "execute_result"
    }
   ],
   "source": [
    "df_clean.head()"
   ]
  },
  {
   "cell_type": "markdown",
   "id": "a8e848e6",
   "metadata": {},
   "source": [
    "### UMLS inspection"
   ]
  },
  {
   "cell_type": "code",
   "execution_count": 38,
   "id": "da271626",
   "metadata": {},
   "outputs": [],
   "source": [
    "'''\n",
    "Description:\n",
    "    Creates a database connection to the SQLite database specified by the db_file\n",
    "\n",
    "Args:\n",
    "    db_file (str): Path to the SQLite database \n",
    "\n",
    "Returns:\n",
    "    conn (str): Connection object or None\n",
    "'''\n",
    "def createMySQLConn(db_file):\n",
    "\n",
    "    conn = None\n",
    "    try:\n",
    "        conn = sqlite3.connect(db_file)\n",
    "        print('This is the connection: ', conn)\n",
    "    except Error as e:\n",
    "        print(e)\n",
    "\n",
    "    return conn"
   ]
  },
  {
   "cell_type": "code",
   "execution_count": 39,
   "id": "3e43e3ca",
   "metadata": {},
   "outputs": [],
   "source": [
    "'''\n",
    "Description:\n",
    "    This function selects all rows from UMLS.db for the chosen pico_category.\n",
    "\n",
    "Args:\n",
    "    conn (Connection) : MySQL connection to the preprocessed UMLS.db \n",
    "    pico_category (str): choice for the entitiy type to retrieve appropriate UMLS concepts from UMLS.db\n",
    "\n",
    "Returns:\n",
    "    rows (list): Selected terms (and their SAB label) for  pico_category\n",
    "'''\n",
    "def selectTerminology(conn):\n",
    "    \"\"\"\n",
    "    Query all rows in the tasks table\n",
    "    :param conn: the Connection object\n",
    "    :return:\n",
    "    \"\"\"\n",
    "\n",
    "    cur = conn.cursor()\n",
    "    \n",
    "    cur.execute(\"SELECT TERM_PRE, STY FROM terminology1\")\n",
    "    results = cur.fetchall()\n",
    "    \n",
    "    return results"
   ]
  },
  {
   "cell_type": "code",
   "execution_count": 40,
   "id": "a9c5bee5",
   "metadata": {},
   "outputs": [
    {
     "name": "stdout",
     "output_type": "stream",
     "text": [
      "This is the connection:  <sqlite3.Connection object at 0x7fb899707210>\n"
     ]
    }
   ],
   "source": [
    "umls = dict()\n",
    "indir = '/mnt/nas2/data/systematicReview'\n",
    "fpath = 'UMLS/english_subset/umls_preprocessed/umls_tui_pios4_.db'\n",
    "umls_fpath = f'{indir}/{fpath}'\n",
    "conn = createMySQLConn( umls_fpath )"
   ]
  },
  {
   "cell_type": "code",
   "execution_count": 41,
   "id": "f9ead774",
   "metadata": {},
   "outputs": [],
   "source": [
    "results = selectTerminology(conn)"
   ]
  },
  {
   "cell_type": "code",
   "execution_count": 42,
   "id": "664bd460",
   "metadata": {},
   "outputs": [],
   "source": [
    "def map_to_sty(p):\n",
    "    \n",
    "    term2sty=dict()\n",
    "    \n",
    "    for p_i in p:\n",
    "        if p_i[1] not in term2sty:\n",
    "            term2sty[ p_i[1] ] = [ p_i[0].lower() ]\n",
    "        else:\n",
    "            term2sty[ p_i[1] ].append( p_i[0].lower() )\n",
    "            \n",
    "    return term2sty\n",
    "\n",
    "term_lookup = map_to_sty(results)"
   ]
  },
  {
   "cell_type": "code",
   "execution_count": 43,
   "id": "5b608d51",
   "metadata": {},
   "outputs": [],
   "source": [
    "def get_ent_sty_lookup(d_labels):\n",
    "    \n",
    "    d_2_sty = dict()\n",
    "    \n",
    "    for x in d_labels:\n",
    "        for k, v in term_lookup.items():\n",
    "            if x.lower() in v:\n",
    "                if x not in d_2_sty or x.lower():\n",
    "                    d_2_sty[x.lower()] = [k]\n",
    "                else:\n",
    "                    d_2_sty[x.lower()].append(k)\n",
    "    \n",
    "    return d_2_sty"
   ]
  },
  {
   "cell_type": "code",
   "execution_count": 101,
   "id": "120b3f6c",
   "metadata": {},
   "outputs": [
    {
     "name": "stdout",
     "output_type": "stream",
     "text": [
      " ----------------------------------------------------------------  \n",
      "\n",
      "population class terms without any semantic group: \n",
      "\n",
      "MV470v\n",
      "CFLD\n",
      "baby with CF\n",
      "LPR/GERD\n",
      "IBS-C\n",
      "schizophrenic.\n",
      "asymptomatic newborns with CF\n",
      "pelvic spasms\n",
      "gastrointestinal motility disorders\n",
      "SIB0\n",
      "alcohol neuropathy\n",
      "immune compromised\n",
      "Plantar Fasciittis\n",
      "allergic to vaccines\n",
      "pylori\n",
      "UCTD/lupus\n",
      "partial bowel dysmotility\n",
      "CFRD\n",
      "common gastrointestinal diagnoses\n",
      "*POTS\n",
      "DPDR\n",
      "flare up\n",
      "CFers\n",
      "hashimotos\n",
      "Covid-19\n",
      "bad flare\n",
      "irritable bowel syndrome management\n",
      "certain diet\n",
      "healthy individuals\n",
      "generalized epilepsy patients\n",
      "RRMS\n",
      "Hashimotos\n",
      "DID\n",
      "IBS patients\n",
      "COVID-19\n",
      "SPMS\n",
      "people with pre-existing mental health conditions\n",
      "Intestinal Fungal Dysbiosis\n",
      "IBS-D\n",
      "Busitus\n",
      "Kaftrio\n",
      "gout/Uric Acid\n",
      "Visceral Hypersensitivity\n",
      "R75q\n",
      " ----------------------------------------------------------------  \n",
      "\n",
      "intervention class terms without any semantic group: \n",
      "\n",
      "Bellerica\n",
      "FODMAP\n",
      "adjust enzyme\n",
      "spinal lesions\n",
      "HH surgery\n",
      "mild exercise\n",
      "over the counter ointments\n",
      "colchicine daily\n",
      "f urate crystals slowly going back into solution\n",
      "refined carbs\n",
      "seroquel 300 XR\n",
      "Chia Seeds\n",
      "oral antibiotics (cephaloporins)\n",
      "Planquenil\n",
      "flutter-valve treatment\n",
      "Cystic Fibrosis Drugs\n",
      "saline injections\n",
      "EBV virus vaccine\n",
      "Anti psychotics\n",
      "Nasal Polyp removal surgery\n",
      "vitamin d3\n",
      "high fibre\n",
      "miralax in coffee or water\n",
      "Ozone therepy\n",
      "Ivabramine\n",
      "proper sleep schedule\n",
      "eating chicken\n",
      "sprained my ankle\n",
      "tart cherry pills\n",
      "Aleve twice a day for the first month\n",
      "pantoprazole 40mg\n",
      "n kidney not filtration not work properly.\n",
      "Wim Hof cold showers/ ice baths and breathing\n",
      "wearing face masks\n",
      "certain medications\n",
      "o with excessive Vit\n",
      "milk of magnesia\n",
      "Acid Watcher Diet\n",
      "drinking a bunch of water\n",
      "DMT treatment\n",
      "cannibis\n",
      "weights or ab training\n",
      "full blood transfusions\n",
      "PPIs\n",
      "eating sourdough\n",
      "juicing celery\n",
      "Evusheld\n",
      "temperature changes\n",
      "anti virals plus the blood plasma thing\n",
      "Anticardiolipin\n",
      "allopurinal\n",
      "fabuxostat 40 mg\n",
      "hydroxychloriquine\n",
      "donating blood every 2 months\n",
      "high sucrose fruits\n",
      "ADHD meds\n",
      "I don'\n",
      "withdrawing from psyche medication\n",
      "Febuxostast\n",
      "Coffee Tamer\n",
      "suppressants\n",
      "UA-lowering therapy\n",
      "Stop Tysabri\n",
      "D vitamins\n",
      "gavsicon\n",
      "colochicine\n",
      "high-fiber diet\n",
      "sugar/high fructose corn syrup\n",
      "Cryotherapy, compression therapy, infrared sauna\n",
      "Epstein-Barr Virus\n",
      "Pickled foods\n",
      "InnoSpire Go nebs\n",
      "pepsi\n",
      "Allopurinol/Febuxostat\n",
      "Kaftrio/Trikafta\n",
      "propranolol and Endep\n",
      "drink little alcohol\n",
      "anti-seizure medication\n",
      "2 weeks on allopurinol\n",
      "going off of the birth control pill after extended use\n",
      "DGL licorice\n",
      "nissen\n",
      "cfers\n",
      "Experimental Immunotherapy\n",
      "Nissen Fundoplication surgery\n",
      "80 ounces of water a day\n",
      "Aflorex\n",
      "Thoracoscopic Sympathectomies\n",
      "PT/acute rehab\n",
      "fluoroquinolone antibiotics\n",
      "multistrain\n",
      "salt water pool test strips\n",
      "optifiber\n",
      "anti-parasite medication\n",
      "foods high in creatine\n",
      "K-vitamin cream\n",
      "citrafleet\n",
      "ask my parents\n",
      "I drink and eat enough.\n",
      "plant-based diets\n",
      "walking after meals\n",
      "coagulans\n",
      "coffeee\n",
      "oxygen tanks\n",
      "ve been taking vitamins ev\n",
      "PPI's\n",
      "gad corticosteroids\n",
      "Epstein-Barr virus\n",
      "kaftrio\n",
      "nifedepine\n",
      "unknown medicine from Mexico\n",
      "kidney biopsies\n",
      "psilocybin therapy\n",
      "eat more salt\n",
      "zinc carosine\n",
      "High Levels of Gut Bacterial Toxins\n",
      "ay the trea\n",
      "Positive allosteric modulation of endogenous delta opioid receptor signaling in the enteric nervous system\n",
      "gene modulators\n",
      "gaps diet\n",
      "tolerizing vaccine\n",
      "eat purine-containing foods\n",
      "Thiazide diuretic (chlorthalidone\n",
      "decrease stress\n",
      "azithromyin\n",
      "that *Hydrangea\n",
      "peglyte\n",
      "safe foods\n",
      "Bai coconut\n",
      "Epstein Barr Virus (EBV)\n",
      "plasma donation\n",
      "severe illness\n",
      "flue\n",
      "post-virus illness\n",
      "beans and plant proteins\n",
      "Paxlovid\n",
      "plaquinel\n",
      "prochlorpezaine\n",
      "Lacosamide AND LaMotrigine\n",
      "vitamins D, E, and B, magnesium, glucosomine, turmeric, leucine, and melatonin\n",
      "codiene\n",
      "other psychedelic substances\n",
      "b-cell depletion\n",
      "vitamin infusion\n",
      "cf patients who has had tx, Down Syndrome & cancer\n",
      "single tart cherry extract supplement\n",
      "modified Levine protocol\n",
      "lamotrigine, generic\n",
      "cut out oxalate-containing foods\n",
      "one capsule of 500 mg of Terminalia bellerica extract, taken twice daily\n",
      "allopurino\n",
      " ----------------------------------------------------------------  \n",
      "\n",
      "outcome class terms without any semantic group: \n",
      "\n",
      "neurological and circulatory systems\n",
      "aura feeling\n",
      "Lifechanging\n",
      "reduction in worms\n",
      "flare ups\n",
      "UAs\n",
      "other autoimmune diseases\n",
      "serum UA drops below 6.0 and stays there\n",
      "rectal issues\n",
      "violent delusions\n",
      "contribute to nerve cell death\n",
      "without having a gout flare up\n",
      "heart warning\n",
      "blurred\n",
      "potential side effects\n",
      "nerve issues\n",
      "effect bowel movements\n",
      "helps minimally\n",
      "i can walk\n",
      "reducing inflammation\n",
      "UA level\n",
      "do more harm than good\n",
      "flare up\n",
      "thighs become incredibly itchy and prickly\n",
      "flair ups have been much less frequent\n",
      "very tough to withdraw from\n",
      "tingling and tightness in face\n",
      "do have flare ups\n",
      "thin\n",
      "no flare ups\n",
      "kidney functions\n",
      "body aches\n",
      "without recurrence of gout\n",
      "later cases of MS\n",
      "Bloated\n",
      "protect their immunocompromised infant\n",
      "full body hives\n",
      "lower uric acid\n",
      "smell different\n",
      "more mucus\n",
      "brain volume loss\n",
      "decreased uric acid by a mean of 27.59%\n",
      "flair ups are more frequent at the first time you take allo\n",
      "immune dysfunction in multiple sclerosis\n",
      "tardive dyskensia\n",
      "craps\n",
      "Lhermitte's sign\n",
      "flareups\n",
      "tremors worse\n",
      "more sensitive to the sun\n",
      "nausea/bloating\n",
      "GI issues\n",
      "stomach issues\n",
      "purple sunburn\n",
      "heartburns\n",
      "large flushes\n",
      "reducing uric acid\n",
      "Anxiety to a point where I thought I had heart and brain problems Depression Heart palpitations Fatigue Brain fog Numbness\n",
      "shortness of breath\n",
      "increase lupus flares\n",
      "achieve targeted uric acid serum levels\n",
      "bloats\n",
      "uric acid levels stay in the 300s\n",
      "manage the pain\n",
      "prevent seizures/auras\n",
      "inflammation-induced Gout\n",
      "less sedating\n",
      "irritated\n",
      "legs would tense up and wouldnt move\n",
      "shivery\n",
      "cause reflux\n",
      "ugly sobs\n",
      "crappy\n",
      "brush stuff like that off\n",
      "to mitigate any pain from flare-ups caused by the Allo\n",
      "did nothing for the pain,\n",
      "Gout in shoulders\n",
      "battery acid taste in your mouth\n",
      "Incomplete evacuation\n",
      "affecting nerves\n",
      "nausea/dizzy\n",
      "vertigo/dizziness\n",
      "reduce your symptoms\n",
      "severity has decreased\n",
      "other autoimmune disease\n",
      "prevent future flare-ups\n",
      "reflux symptoms\n",
      "improvement after two weeks\n",
      "emotional side effects\n",
      "tends to work\n",
      "thicker mucus\n",
      "symptoms in the extremities\n",
      "increases the risk of multiple sclerosis\n",
      "B-cells\n",
      "side effects\n",
      "damage to the myelin sheath\n",
      "pain goes away\n",
      "my heart is okay\n",
      "Life-Changing\n",
      "gout flares\n",
      "I havnt had an attack\n",
      "no side effects\n",
      "Sjögrens\n",
      "coffeee\n",
      "A Fib\n",
      "full blown psychosis\n",
      "remission state\n",
      "help the pancreas\n",
      "lower the risk of flares\n",
      "heartrate\n",
      "make my hernia worse\n",
      "uric acid production\n",
      "had success\n",
      "dont have any more flare up\n",
      "gassy\n",
      "chest and back pain\n",
      "bloated\n",
      "Blue foot\n",
      "risk for lung cance\n",
      "flare-ups\n",
      "Barretts\n",
      "ring a little po\n",
      "pins jn my skin\n",
      "pinpoint sized spots of redness\n",
      "reduce UA by straight up taking it out of my blood\n",
      "screen for CF\n",
      "uric acid.\n",
      "have not suffer psychosis\n",
      "bad avolition\n",
      "serum creatinine levels\n",
      "intense headaches\n",
      "flare-up\n",
      "false-negatives\n",
      "small modules under my skin on my torso\n",
      "helped quite a bit to manage my UA levels\n",
      "bad flaky scalp\n",
      "frustration/aggression\n",
      "the less things I am able to do\n",
      "intense nausea\n",
      "sore throats.\n",
      "tingling/numbness\n",
      "flares\n",
      "damaged\n",
      "purify the blood\n",
      "shaky jittery\n",
      "treat their GERD effectively\n",
      "worsening of old symptoms\n",
      "extremely constipated\n",
      "psychoactive effects\n",
      "delays the reaction\n",
      "more hair loss\n",
      "hat can cause\n"
     ]
    }
   ],
   "source": [
    "participant_labels = list(set(participant_labels))\n",
    "intervention_labels = list(set(intervention_labels))\n",
    "outcome_labels = list(set(outcome_labels))\n",
    "\n",
    "umls_coverage = dict()\n",
    "\n",
    "for d_labels, picos_i in zip( [ participant_labels, intervention_labels, outcome_labels ], ['population', 'intervention', 'outcome'] ):\n",
    "    \n",
    "    pico_2_sty = get_ent_sty_lookup(d_labels)\n",
    "    umls_coverage[picos_i] = pico_2_sty\n",
    "    \n",
    "    print(' ----------------------------------------------------------------  ')\n",
    "    print( f'\\n{picos_i} class terms without any semantic group: \\n' )\n",
    "    for x in d_labels:\n",
    "        if x.lower() not in pico_2_sty:\n",
    "            print( x )"
   ]
  },
  {
   "cell_type": "code",
   "execution_count": 45,
   "id": "c327fc0e",
   "metadata": {},
   "outputs": [
    {
     "name": "stdout",
     "output_type": "stream",
     "text": [
      "For the population class, the UMLS coverage is: 59.411764705882355\n",
      "For the intervention class, the UMLS coverage is: 58.133971291866025\n",
      "For the outcome class, the UMLS coverage is: 52.47813411078717\n"
     ]
    }
   ],
   "source": [
    "for k, v in umls_coverage.items():\n",
    "    \n",
    "    if k == 'population':\n",
    "        coverage = ( len(v) / len(participant_labels) ) * 100\n",
    "        print(f'For the {k} class, the UMLS coverage is: {coverage}')\n",
    "    if k == 'intervention':\n",
    "        coverage = ( len(v) / len(intervention_labels) ) * 100\n",
    "        print(f'For the {k} class, the UMLS coverage is: {coverage}')\n",
    "    if k == 'outcome':\n",
    "        coverage = ( len(v) / len(outcome_labels) ) * 100\n",
    "        print(f'For the {k} class, the UMLS coverage is: {coverage}')"
   ]
  },
  {
   "cell_type": "code",
   "execution_count": 46,
   "id": "08e9955b",
   "metadata": {},
   "outputs": [
    {
     "data": {
      "text/plain": [
       "dict_keys(['population', 'intervention', 'outcome'])"
      ]
     },
     "execution_count": 46,
     "metadata": {},
     "output_type": "execute_result"
    }
   ],
   "source": [
    "umls_coverage.keys()"
   ]
  },
  {
   "cell_type": "code",
   "execution_count": 104,
   "id": "9aec662d",
   "metadata": {},
   "outputs": [
    {
     "data": {
      "text/html": [
       "<div>\n",
       "<style scoped>\n",
       "    .dataframe tbody tr th:only-of-type {\n",
       "        vertical-align: middle;\n",
       "    }\n",
       "\n",
       "    .dataframe tbody tr th {\n",
       "        vertical-align: top;\n",
       "    }\n",
       "\n",
       "    .dataframe thead th {\n",
       "        text-align: right;\n",
       "    }\n",
       "</style>\n",
       "<table border=\"1\" class=\"dataframe\">\n",
       "  <thead>\n",
       "    <tr style=\"text-align: right;\">\n",
       "      <th></th>\n",
       "      <th>Unnamed: 0</th>\n",
       "      <th>post_id</th>\n",
       "      <th>subreddit_id</th>\n",
       "      <th>claim</th>\n",
       "      <th>stage2_labels</th>\n",
       "      <th>text</th>\n",
       "      <th>labels_char</th>\n",
       "      <th>claim_offsets</th>\n",
       "      <th>tokens</th>\n",
       "      <th>labels</th>\n",
       "      <th>pos_fine</th>\n",
       "      <th>lemma</th>\n",
       "      <th>pos</th>\n",
       "    </tr>\n",
       "  </thead>\n",
       "  <tbody>\n",
       "    <tr>\n",
       "      <th>0</th>\n",
       "      <td>0</td>\n",
       "      <td>sn9u41</td>\n",
       "      <td>t5_2s23e</td>\n",
       "      <td>I read an old thread on here that someone said...</td>\n",
       "      <td>[{\"crowd-entity-annotation\":{\"entities\":[{\"end...</td>\n",
       "      <td>Tysabri experiences\\nHi all\\n\\nI just had my 3...</td>\n",
       "      <td>[2, 2, 2, 2, 2, 2, 2, 2, 0, 0, 0, 0, 0, 0, 0, ...</td>\n",
       "      <td>(508, 724)</td>\n",
       "      <td>['Tysabri', 'experiences', 'Hi', 'all', 'I', '...</td>\n",
       "      <td>[2, 0, 0, 0, 0, 0, 0, 0, 0, 0, 0, 0, 0, 0, 0, ...</td>\n",
       "      <td>[NNP, NNS, UH, NNP, PRP, RB, VBD, UH, NN, NNP,...</td>\n",
       "      <td>[Tysabri, experience, hi, all, I, just, have, ...</td>\n",
       "      <td>[PROPN, NOUN, INTJ, PROPN, PRON, ADV, VERB, IN...</td>\n",
       "    </tr>\n",
       "    <tr>\n",
       "      <th>1</th>\n",
       "      <td>1</td>\n",
       "      <td>p7j49y</td>\n",
       "      <td>t5_2syer</td>\n",
       "      <td>I have read that gout can't be cured, that it'...</td>\n",
       "      <td>[{\"crowd-entity-annotation\":{\"entities\":[{\"end...</td>\n",
       "      <td>Crazy amount of sardines caused gout (possibly...</td>\n",
       "      <td>[0, 0, 0, 0, 0, 0, 0, 0, 0, 0, 0, 0, 0, 0, 0, ...</td>\n",
       "      <td>(1401, 1654)</td>\n",
       "      <td>['Crazy', 'amount', 'of', 'sardines', 'caused'...</td>\n",
       "      <td>[0, 0, 0, 0, 0, 0, 0, 0, 0, 0, 0, 0, 0, 0, 0, ...</td>\n",
       "      <td>[JJ, NN, IN, NNP, VBN, NN, -LRB-, JJ, UH, IN, ...</td>\n",
       "      <td>[crazy, amount, of, sardines, cause, gout, (, ...</td>\n",
       "      <td>[ADJ, NOUN, ADP, PROPN, VERB, NOUN, PUNCT, ADJ...</td>\n",
       "    </tr>\n",
       "    <tr>\n",
       "      <th>2</th>\n",
       "      <td>2</td>\n",
       "      <td>smgy0q</td>\n",
       "      <td>t5_2s3g1</td>\n",
       "      <td>I always read stories of people who suffer fro...</td>\n",
       "      <td>[{\"crowd-entity-annotation\":{\"entities\":[{\"end...</td>\n",
       "      <td>Im sorry for intruding but I just want to say ...</td>\n",
       "      <td>[0, 0, 0, 0, 0, 0, 0, 0, 0, 0, 0, 0, 0, 0, 0, ...</td>\n",
       "      <td>(302, 419)</td>\n",
       "      <td>['Im', 'sorry', 'for', 'intruding', 'but', 'I'...</td>\n",
       "      <td>[0, 0, 0, 0, 0, 0, 0, 0, 0, 0, 0, 0, 0, 0, 0, ...</td>\n",
       "      <td>[UH, JJ, IN, VBG, CC, PRP, RB, VB, VB, VB, WRB...</td>\n",
       "      <td>[i, sorry, for, intrude, but, I, just, want, t...</td>\n",
       "      <td>[INTJ, ADJ, ADP, VERB, CCONJ, PRON, ADV, VERB,...</td>\n",
       "    </tr>\n",
       "    <tr>\n",
       "      <th>3</th>\n",
       "      <td>3</td>\n",
       "      <td>sxglhl</td>\n",
       "      <td>t5_2s3g1</td>\n",
       "      <td>Our results indicate that the addition of prob...</td>\n",
       "      <td>[{\"crowd-entity-annotation\":{\"entities\":[{\"end...</td>\n",
       "      <td>Is Bacillus coagulans supplementation plus low...</td>\n",
       "      <td>[0, 0, 0, 2, 2, 2, 2, 2, 2, 2, 2, 2, 2, 2, 2, ...</td>\n",
       "      <td>(1442, 1617)</td>\n",
       "      <td>['Is', 'Bacillus', 'coagulans', 'supplementati...</td>\n",
       "      <td>[0, 2, 2, 0, 0, 0, 2, 0, 0, 0, 0, 0, 0, 0, 1, ...</td>\n",
       "      <td>[VBZ, NNP, NNS, NN, CC, JJ, NNP, NN, JJ, VB, J...</td>\n",
       "      <td>[be, Bacillus, coagulan, supplementation, plus...</td>\n",
       "      <td>[VERB, PROPN, NOUN, NOUN, CCONJ, ADJ, PROPN, N...</td>\n",
       "    </tr>\n",
       "    <tr>\n",
       "      <th>6</th>\n",
       "      <td>6</td>\n",
       "      <td>sfc8e0</td>\n",
       "      <td>t5_2tyg2</td>\n",
       "      <td>Here it says, in the DSM book</td>\n",
       "      <td>[{\"crowd-entity-annotation\":{\"entities\":[]}}]</td>\n",
       "      <td>Psychosis (as its described now) doesnt really...</td>\n",
       "      <td>[0, 0, 0, 0, 0, 0, 0, 0, 0, 0, 0, 0, 0, 0, 0, ...</td>\n",
       "      <td>(1568, 1597)</td>\n",
       "      <td>['Psychosis', '(as', 'its', 'described', 'now)...</td>\n",
       "      <td>[0, 0, 0, 0, 0, 0, 0, 0, 0, 0, 0, 0, 0, 0, 0, ...</td>\n",
       "      <td>[NN, -LRB-, PRP, VBN, RB, VBZ, RB, VB, IN, PRP...</td>\n",
       "      <td>[psychosis, (, its, describe, now, do, really,...</td>\n",
       "      <td>[NOUN, PUNCT, PRON, VERB, ADV, VERB, ADV, VERB...</td>\n",
       "    </tr>\n",
       "  </tbody>\n",
       "</table>\n",
       "</div>"
      ],
      "text/plain": [
       "   Unnamed: 0 post_id subreddit_id  \\\n",
       "0           0  sn9u41     t5_2s23e   \n",
       "1           1  p7j49y     t5_2syer   \n",
       "2           2  smgy0q     t5_2s3g1   \n",
       "3           3  sxglhl     t5_2s3g1   \n",
       "6           6  sfc8e0     t5_2tyg2   \n",
       "\n",
       "                                               claim  \\\n",
       "0  I read an old thread on here that someone said...   \n",
       "1  I have read that gout can't be cured, that it'...   \n",
       "2  I always read stories of people who suffer fro...   \n",
       "3  Our results indicate that the addition of prob...   \n",
       "6                      Here it says, in the DSM book   \n",
       "\n",
       "                                       stage2_labels  \\\n",
       "0  [{\"crowd-entity-annotation\":{\"entities\":[{\"end...   \n",
       "1  [{\"crowd-entity-annotation\":{\"entities\":[{\"end...   \n",
       "2  [{\"crowd-entity-annotation\":{\"entities\":[{\"end...   \n",
       "3  [{\"crowd-entity-annotation\":{\"entities\":[{\"end...   \n",
       "6      [{\"crowd-entity-annotation\":{\"entities\":[]}}]   \n",
       "\n",
       "                                                text  \\\n",
       "0  Tysabri experiences\\nHi all\\n\\nI just had my 3...   \n",
       "1  Crazy amount of sardines caused gout (possibly...   \n",
       "2  Im sorry for intruding but I just want to say ...   \n",
       "3  Is Bacillus coagulans supplementation plus low...   \n",
       "6  Psychosis (as its described now) doesnt really...   \n",
       "\n",
       "                                         labels_char claim_offsets  \\\n",
       "0  [2, 2, 2, 2, 2, 2, 2, 2, 0, 0, 0, 0, 0, 0, 0, ...    (508, 724)   \n",
       "1  [0, 0, 0, 0, 0, 0, 0, 0, 0, 0, 0, 0, 0, 0, 0, ...  (1401, 1654)   \n",
       "2  [0, 0, 0, 0, 0, 0, 0, 0, 0, 0, 0, 0, 0, 0, 0, ...    (302, 419)   \n",
       "3  [0, 0, 0, 2, 2, 2, 2, 2, 2, 2, 2, 2, 2, 2, 2, ...  (1442, 1617)   \n",
       "6  [0, 0, 0, 0, 0, 0, 0, 0, 0, 0, 0, 0, 0, 0, 0, ...  (1568, 1597)   \n",
       "\n",
       "                                              tokens  \\\n",
       "0  ['Tysabri', 'experiences', 'Hi', 'all', 'I', '...   \n",
       "1  ['Crazy', 'amount', 'of', 'sardines', 'caused'...   \n",
       "2  ['Im', 'sorry', 'for', 'intruding', 'but', 'I'...   \n",
       "3  ['Is', 'Bacillus', 'coagulans', 'supplementati...   \n",
       "6  ['Psychosis', '(as', 'its', 'described', 'now)...   \n",
       "\n",
       "                                              labels  \\\n",
       "0  [2, 0, 0, 0, 0, 0, 0, 0, 0, 0, 0, 0, 0, 0, 0, ...   \n",
       "1  [0, 0, 0, 0, 0, 0, 0, 0, 0, 0, 0, 0, 0, 0, 0, ...   \n",
       "2  [0, 0, 0, 0, 0, 0, 0, 0, 0, 0, 0, 0, 0, 0, 0, ...   \n",
       "3  [0, 2, 2, 0, 0, 0, 2, 0, 0, 0, 0, 0, 0, 0, 1, ...   \n",
       "6  [0, 0, 0, 0, 0, 0, 0, 0, 0, 0, 0, 0, 0, 0, 0, ...   \n",
       "\n",
       "                                            pos_fine  \\\n",
       "0  [NNP, NNS, UH, NNP, PRP, RB, VBD, UH, NN, NNP,...   \n",
       "1  [JJ, NN, IN, NNP, VBN, NN, -LRB-, JJ, UH, IN, ...   \n",
       "2  [UH, JJ, IN, VBG, CC, PRP, RB, VB, VB, VB, WRB...   \n",
       "3  [VBZ, NNP, NNS, NN, CC, JJ, NNP, NN, JJ, VB, J...   \n",
       "6  [NN, -LRB-, PRP, VBN, RB, VBZ, RB, VB, IN, PRP...   \n",
       "\n",
       "                                               lemma  \\\n",
       "0  [Tysabri, experience, hi, all, I, just, have, ...   \n",
       "1  [crazy, amount, of, sardines, cause, gout, (, ...   \n",
       "2  [i, sorry, for, intrude, but, I, just, want, t...   \n",
       "3  [be, Bacillus, coagulan, supplementation, plus...   \n",
       "6  [psychosis, (, its, describe, now, do, really,...   \n",
       "\n",
       "                                                 pos  \n",
       "0  [PROPN, NOUN, INTJ, PROPN, PRON, ADV, VERB, IN...  \n",
       "1  [ADJ, NOUN, ADP, PROPN, VERB, NOUN, PUNCT, ADJ...  \n",
       "2  [INTJ, ADJ, ADP, VERB, CCONJ, PRON, ADV, VERB,...  \n",
       "3  [VERB, PROPN, NOUN, NOUN, CCONJ, ADJ, PROPN, N...  \n",
       "6  [NOUN, PUNCT, PRON, VERB, ADV, VERB, ADV, VERB...  "
      ]
     },
     "execution_count": 104,
     "metadata": {},
     "output_type": "execute_result"
    }
   ],
   "source": [
    "df_clean.head()"
   ]
  },
  {
   "cell_type": "markdown",
   "id": "49c35db7",
   "metadata": {},
   "source": [
    "### Write to dir"
   ]
  },
  {
   "cell_type": "code",
   "execution_count": 47,
   "id": "08307742",
   "metadata": {},
   "outputs": [],
   "source": [
    "write_dir = '/mnt/nas2/data/systematicReview/semeval2023/data/preprocessed'\n",
    "write_train = 'st2_train_preprocessed.tsv'\n",
    "write_val = 'st2_val_preprocessed.tsv'"
   ]
  },
  {
   "cell_type": "code",
   "execution_count": 107,
   "id": "b2582ae0",
   "metadata": {},
   "outputs": [],
   "source": [
    "train_df, val_df = train_test_split(df_clean, test_size=0.1, shuffle=False, random_state=random_seed)"
   ]
  },
  {
   "cell_type": "code",
   "execution_count": 108,
   "id": "5caaeda4",
   "metadata": {},
   "outputs": [],
   "source": [
    "train_df.to_csv(f\"{write_dir}/{write_train}\", sep = \"\\t\")\n",
    "val_df.to_csv(f\"{write_dir}/{write_val}\", sep = \"\\t\")"
   ]
  },
  {
   "cell_type": "code",
   "execution_count": null,
   "id": "76a1c108",
   "metadata": {},
   "outputs": [],
   "source": []
  }
 ],
 "metadata": {
  "kernelspec": {
   "display_name": "Python 3",
   "language": "python",
   "name": "python3"
  },
  "language_info": {
   "codemirror_mode": {
    "name": "ipython",
    "version": 3
   },
   "file_extension": ".py",
   "mimetype": "text/x-python",
   "name": "python",
   "nbconvert_exporter": "python",
   "pygments_lexer": "ipython3",
   "version": "3.8.10"
  }
 },
 "nbformat": 4,
 "nbformat_minor": 5
}
